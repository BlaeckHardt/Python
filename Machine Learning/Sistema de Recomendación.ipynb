{
 "cells": [
  {
   "cell_type": "markdown",
   "metadata": {},
   "source": [
    "# Introducción \n",
    "Los sistemas de recomendación, a veces llamados en inglés “recommender systems” son algoritmos que intentan “predecir” los siguientes ítems (productos, canciones, etc.) que querrá adquirir un usuario en particular.\n",
    " \n",
    "Entre las estrategias más usadas para crear sistemas de recomendación encontramos:\n",
    "* **Popularity**: Aconseja por la “popularidad” de los productos. Por ejemplo, “los más vendidos” globalmente, se ofrecerán a todos los usuarios por igual sin aprovechar la personalización. Es fácil de implementar y en algunos casos es efectiva.\n",
    "* **Content-based**: A partir de productos visitados por el usuario, se intenta “adivinar” qué busca el usuario y ofrecer mercancías similares.\n",
    "* **Colaborative**: Es el más novedoso, pues utiliza la información de “masas” para identificar perfiles similares y aprender de los datos para recomendar productos de manera individual.\n",
    " \n",
    "En esta ocasión usaremos la metodologia de Collaborative Filtering.\n",
    "El Collaborative Filtering se basa en crear una matriz en la que pondremos a los usuarios en las filas y los items en columnas de modo que cada usuario pondrá una calificación a cada producto, evidentemente tendremos huecos en la matriz pues evidentemente no todos los usuarios tienen o valoraron todos los ítems.\n",
    "Una matriz con muchas celdas vacías se dice -en inglés- que es sparce (y suele ser normal) en cambio si tuviéramos la mayoría de las celdas cubiertas con valoraciones, se llamará dense.\n",
    "## Tipos de Collaborative Filtering\n",
    "* **User-based**:\n",
    "    * Se identifican usuarios similares\n",
    "    * Se recomiendan nuevos ítems a otros usuarios basado en el rating dado por otros usuarios similares (que no haya valorado este usuario)\n",
    "* **Item-based**: (Este es el que veremos a continuación)\n",
    "    * Calcular la similitud entre items\n",
    "    * Encontrar los “mejores items similares” a los que un usuario no tenga evaluados y recomendárselos.\n",
    "\n",
    "Veamos ahora la aplicación del algoritmo en python:\n",
    "\n",
    "Antes de empezar cabe resaltar que necesitamos los siguientes archivos para empezar,los puedes encontrar aqui: https://drive.google.com/drive/folders/10P7C-suaBAA5_ZAi4oEO_Pmsb7kG6JMZ \n",
    "\n",
    "Veamos el código:\n"
   ]
  },
  {
   "cell_type": "code",
   "execution_count": 1,
   "metadata": {
    "collapsed": false
   },
   "outputs": [
    {
     "name": "stdout",
     "output_type": "stream",
     "text": [
      "[{huevos} -> {tocino}, {sopa} -> {tocino}]\r\n"
     ]
    }
   ],
   "source": [
    "from efficient_apriori import apriori #Libreria a importar\n",
    "transacciones = [('huevos', 'tocino', 'sopa'),\n",
    "                ('huevos', 'tocino', 'manzana'),\n",
    "                ('sopa', 'tocino', 'platano')]\n",
    "itemsets, reglas = apriori(transacciones, min_support=0.5,  min_confidence=1)\n",
    "print(reglas)  # [{huevos} -> {tocino}, {sopa} -> {tocino}]\n"
   ]
  },
  {
   "cell_type": "markdown",
   "metadata": {},
   "source": [
    ""
   ]
  }
 ],
 "metadata": {
  "kernelspec": {
   "display_name": "Python 3",
   "language": "python",
   "name": "python3"
  },
  "language_info": {
   "codemirror_mode": {
    "name": "ipython",
    "version": 3
   },
   "file_extension": ".py",
   "mimetype": "text/x-python",
   "name": "python",
   "nbconvert_exporter": "python",
   "pygments_lexer": "ipython3",
   "version": "3.7.3"
  }
 },
 "nbformat": 4,
 "nbformat_minor": 2
}
