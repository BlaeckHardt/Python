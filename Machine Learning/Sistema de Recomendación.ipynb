{
 "cells": [
  {
   "cell_type": "markdown",
   "metadata": {},
   "source": [
    "# Introducción \n",
    "Los sistemas de recomendación, a veces llamados en inglés “recommender systems” son algoritmos que intentan “predecir” los siguientes ítems (productos, canciones, etc.) que querrá adquirir un usuario en particular.\n",
    " \n",
    "Entre las estrategias más usadas para crear sistemas de recomendación encontramos:\n",
    "* **Popularity**: Aconseja por la “popularidad” de los productos. Por ejemplo, “los más vendidos” globalmente, se ofrecerán a todos los usuarios por igual sin aprovechar la personalización. Es fácil de implementar y en algunos casos es efectiva.\n",
    "* **Content-based**: A partir de productos visitados por el usuario, se intenta “adivinar” qué busca el usuario y ofrecer mercancías similares.\n",
    "* **Colaborative**: Es el más novedoso, pues utiliza la información de “masas” para identificar perfiles similares y aprender de los datos para recomendar productos de manera individual.\n",
    " \n",
    "En esta ocasión usaremos la metodologia de Collaborative Filtering.\n",
    "El Collaborative Filtering se basa en crear una matriz en la que pondremos a los usuarios en las filas y los items en columnas de modo que cada usuario pondrá una calificación a cada producto, evidentemente tendremos huecos en la matriz pues evidentemente no todos los usuarios tienen o valoraron todos los ítems.\n",
    "Una matriz con muchas celdas vacías se dice -en inglés- que es sparce (y suele ser normal) en cambio si tuviéramos la mayoría de las celdas cubiertas con valoraciones, se llamará dense.\n",
    "## Tipos de Collaborative Filtering\n",
    "* **User-based**:\n",
    "    * Se identifican usuarios similares\n",
    "    * Se recomiendan nuevos ítems a otros usuarios basado en el rating dado por otros usuarios similares (que no haya valorado este usuario)\n",
    "* **Item-based**: (Este es el que veremos a continuación)\n",
    "    * Calcular la similitud entre items\n",
    "    * Encontrar los “mejores items similares” a los que un usuario no tenga evaluados y recomendárselos.\n",
    "\n",
    "Veamos ahora la aplicación del algoritmo en python:\n",
    "\n",
    "Antes de empezar cabe resaltar que necesitamos instalar la libreria de `efficient-apriori` que puedes encontrar aqui: https://pypi.org/project/efficient-apriori/\n",
    "\n",
    "#Funcion de Apriori\n",
    "\n",
    "´efficient_apriori.apriori(transactions: Iterable[Union[set, tuple, list]], min_support: float = 0.5, min_confidence: float = 0.5, max_length: int = 8, verbosity: int = 0, output_transaction_ids: bool = False)´\n",
    "\n",
    "El algoritmo Apriori funciona en dos fases. La fase 1 itera sobre las transacciones varias veces para crear conjuntos de elementos del nivel de soporte deseado. La Fase 2 construye reglas de asociación de la confianza deseada dados los conjuntos de elementos encontrados en la Fase 1. Ambas fases pueden implementarse correctamente agotando el espacio de búsqueda, es decir, generando todos los conjuntos de elementos posibles y comprobando su soporte. El Apriori poda el espacio de búsqueda de manera eficiente al decidir a priori si un conjunto de elementos posiblemente tiene el soporte deseado, antes de iterar sobre todo el conjunto de datos y verificar.\n",
    "\n",
    "Parametros:\n",
    "* **transactions** (lista de transacciones (conjuntos/tuplas/listas) Cada elemento en): las transacciones deben ser 'hashable'.\n",
    "* **min_support** (flotante): el soporte mínimo de las reglas devueltas. El soporte es la frecuencia con la que los elementos de la regla aparecen juntos en el conjunto de datos.\n",
    "* **min_confidence** (flotante): la confianza mínima de las reglas devueltas. Dada una regla X -> Y, la confianza es la probabilidad de Y, dada X, es decir, P(Y|X) = conf(X -> Y)\n",
    "* **max_length** (int): la longitud máxima de los conjuntos de elementos y las reglas.\n",
    "* **verbosity** (int): el nivel de detalle de impresión cuando se ejecuta el algoritmo 0, 1 o 2.\n",
    "* **output_transaction_ids** (bool): si se establece en verdadero, la salida contiene los identificadores de las transacciones que contienen un conjunto de elementos frecuente. Los ids son la enumeración de las transacciones en la secuencia en que aparecen.\n",
    "\n",
    "Veamos ahora la aplicación en codigo:\n"
   ]
  },
  {
   "cell_type": "code",
   "execution_count": 1,
   "metadata": {
    "collapsed": false
   },
   "outputs": [
    {
     "name": "stdout",
     "output_type": "stream",
     "text": [
      "[{huevos} -> {tocino}, {sopa} -> {tocino}]\r\n"
     ]
    }
   ],
   "source": [
    "from efficient_apriori import apriori #Libreria a importar\n",
    "transacciones = [('huevos', 'tocino', 'sopa'),\n",
    "                ('huevos', 'tocino', 'manzana'),\n",
    "                ('sopa', 'tocino', 'platano')]\n",
    "itemsets, reglas = apriori(transacciones, min_support=0.5,  min_confidence=1)\n",
    "print(reglas)  # [{huevos} -> {tocino}, {sopa} -> {tocino}]\n"
   ]
  }
  
  
  
 ],
 "metadata": {
  "kernelspec": {
   "display_name": "Python 3",
   "language": "python",
   "name": "python3"
  },
  "language_info": {
   "codemirror_mode": {
    "name": "ipython",
    "version": 3
   },
   "file_extension": ".py",
   "mimetype": "text/x-python",
   "name": "python",
   "nbconvert_exporter": "python",
   "pygments_lexer": "ipython3",
   "version": "3.7.3"
  }
 },
 "nbformat": 4,
 "nbformat_minor": 2
}
