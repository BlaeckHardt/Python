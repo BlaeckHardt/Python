{
 "cells": [
  {
   "cell_type": "markdown",
   "metadata": {},
   "source": [
    "# Introducción \n",
    "Los sistemas de recomendación, a veces llamados en inglés “recommender systems” son algoritmos que intentan “predecir” los siguientes ítems (productos, canciones, etc.) que querrá adquirir un usuario en particular.\n",
    " \n",
    "Entre las estrategias más usadas para crear sistemas de recomendación encontramos:\n",
    "* **Popularity**: Aconseja por la “popularidad” de los productos. Por ejemplo, “los más vendidos” globalmente, se ofrecerán a todos los usuarios por igual sin aprovechar la personalización. Es fácil de implementar y en algunos casos es efectiva.\n",
    "* **Content-based**: A partir de productos visitados por el usuario, se intenta “adivinar” qué busca el usuario y ofrecer mercancías similares.\n",
    "* **Colaborative**: Es el más novedoso, pues utiliza la información de “masas” para identificar perfiles similares y aprender de los datos para recomendar productos de manera individual.\n",
    " \n",
    "En esta ocasión usaremos la metodologia de Collaborative Filtering.\n",
    "El Collaborative Filtering se basa en crear una matriz en la que pondremos a los usuarios en las filas y los items en columnas de modo que cada usuario pondrá una calificación a cada producto, evidentemente tendremos huecos en la matriz pues evidentemente no todos los usuarios tienen o valoraron todos los ítems.\n",
    "Una matriz con muchas celdas vacías se dice -en inglés- que es sparce (y suele ser normal) en cambio si tuviéramos la mayoría de las celdas cubiertas con valoraciones, se llamará dense.\n",
    "## Tipos de Collaborative Filtering\n",
    "* **User-based**:\n",
    "    * Se identifican usuarios similares\n",
    "    * Se recomiendan nuevos ítems a otros usuarios basado en el rating dado por otros usuarios similares (que no haya valorado este usuario)\n",
    "* **Item-based**: (Este es el que veremos a continuación)\n",
    "    * Calcular la similitud entre items\n",
    "    * Encontrar los “mejores items similares” a los que un usuario no tenga evaluados y recomendárselos.\n",
    "\n",
    "Veamos ahora la aplicación del algoritmo en python:\n",
    "\n",
    "Antes de empezar cabe resaltar que necesitamos los siguientes archivos para empezar,los puedes encontrar aqui: https://drive.google.com/drive/folders/10P7C-suaBAA5_ZAi4oEO_Pmsb7kG6JMZ \n",
    "\n",
    "Veamos el código:\n"
   ]
  },
  {
   "cell_type": "code",
   "execution_count": 1,
   "metadata": {
    "collapsed": false
   },
   "outputs": [
    {
     "name": "stdout",
     "output_type": "stream",
     "text": [
      "   movie_id  ...                                               crew \n",
      "0     19995  ...  [{'credit_id': '52fe48009251416c750aca23', 'de... \n",
      "1       285  ...  [{'credit_id': '52fe4232c3a36847f800b579', 'de... \n",
      "2    206647  ...  [{'credit_id': '54805967c3a36829b5002c41', 'de... \n",
      "3     49026  ...  [{'credit_id': '52fe4781c3a36847f81398c3', 'de... \n",
      "4     49529  ...  [{'credit_id': '52fe479ac3a36847f813eaa3', 'de... \n",
      "\n",
      "[5 rows x 4 columns] \n",
      "      budget  ... vote_count \n",
      "0  237000000  ...      11800 \n",
      "1  300000000  ...       4500 \n",
      "2  245000000  ...       4466 \n",
      "3  250000000  ...       9106 \n",
      "4  260000000  ...       2124 \n"
      "\n",
      "[5 rows x 20 columns] \n"
     ]
    }
   ],
   "source": [
    "import numpy as np # Librerias a importar \n",
    "import pandas as pd # Librerias a importar \n",
    "\n",
    "# Importamos nuestros archivos \n",
    "creditos_df = pd.read_csv('credits.csv') \n",
    "peliculas_df = pd.read_csv('movies.csv') \n",
    "# Comprobamos archivos y que tengan los mismos titulos \n",
    "print (creditos_df.head()) # Revisión de información \n",
    "print (peliculas_df.head()) # Revisión de información \n"
   ]
  },
  {
   "cell_type": "markdown",
   "metadata": {},
   "source": [
    ""
   ]
  }
 ],
 "metadata": {
  "kernelspec": {
   "display_name": "Python 3",
   "language": "python",
   "name": "python3"
  },
  "language_info": {
   "codemirror_mode": {
    "name": "ipython",
    "version": 3
   },
   "file_extension": ".py",
   "mimetype": "text/x-python",
   "name": "python",
   "nbconvert_exporter": "python",
   "pygments_lexer": "ipython3",
   "version": "3.7.3"
  }
 },
 "nbformat": 4,
 "nbformat_minor": 2
}
