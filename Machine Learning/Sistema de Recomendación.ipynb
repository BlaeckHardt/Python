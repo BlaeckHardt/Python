{
 "cells": [
  {
   "cell_type": "markdown",
   "metadata": {},
   "source": [
    "# Introducción \n",
    "Los sistemas de recomendación, a veces llamados en inglés “recommender systems” son algoritmos que intentan “predecir” los siguientes ítems (productos, canciones, etc.) que querrá adquirir un usuario en particular.\n",
    " \n",
    "Entre las estrategias más usadas para crear sistemas de recomendación encontramos:\n",
    "* **Popularity**: Aconseja por la “popularidad” de los productos. Por ejemplo, “los más vendidos” globalmente, se ofrecerán a todos los usuarios por igual sin aprovechar la personalización. Es fácil de implementar y en algunos casos es efectiva.\n",
    "* **Content-based**: A partir de productos visitados por el usuario, se intenta “adivinar” qué busca el usuario y ofrecer mercancías similares.\n",
    "* **Colaborative**: Es el más novedoso, pues utiliza la información de “masas” para identificar perfiles similares y aprender de los datos para recomendar productos de manera individual.\n",
    " \n",
    "En esta ocasión usaremos la metodologia de Collaborative Filtering.\n",
    "El Collaborative Filtering se basa en crear una matriz en la que pondremos a los usuarios en las filas y los items en columnas de modo que cada usuario pondrá una calificación a cada producto, evidentemente tendremos huecos en la matriz pues evidentemente no todos los usuarios tienen o valoraron todos los ítems.\n",
    "Una matriz con muchas celdas vacías se dice -en inglés- que es sparce (y suele ser normal) en cambio si tuviéramos la mayoría de las celdas cubiertas con valoraciones, se llamará dense.\n",
    "## Tipos de Collaborative Filtering\n",
    "* **User-based**:\n",
    "    * Se identifican usuarios similares\n",
    "    * Se recomiendan nuevos ítems a otros usuarios basado en el rating dado por otros usuarios similares (que no haya valorado este usuario)\n",
    "* **Item-based**: (Este es el que veremos a continuación)\n",
    "    * Calcular la similitud entre items\n",
    "    * Encontrar los “mejores items similares” a los que un usuario no tenga evaluados y recomendárselos.\n",
    "\n",
    "Veamos ahora la aplicación del algoritmo en python:\n",
    "\n",
    "Antes de empezar cabe resaltar que necesitamos los siguientes archivos para empezar,los puedes encontrar aqui: https://drive.google.com/drive/folders/10P7C-suaBAA5_ZAi4oEO_Pmsb7kG6JMZ \n",
    "\n",
    "Veamos el código:\n"
   ]
  },
  {
   "cell_type": "code",
   "execution_count": 1,
   "metadata": {
    "collapsed": false
   },
   "outputs": [
    {
     "name": "stdout",
     "output_type": "stream",
     "text": [
      "   movie_id  ...                                               crew \n",
      "0     19995  ...  [{'credit_id': '52fe48009251416c750aca23', 'de... \n",
      "1       285  ...  [{'credit_id': '52fe4232c3a36847f800b579', 'de... \n",
      "2    206647  ...  [{'credit_id': '54805967c3a36829b5002c41', 'de... \n",
      "3     49026  ...  [{'credit_id': '52fe4781c3a36847f81398c3', 'de... \n",
      "4     49529  ...  [{'credit_id': '52fe479ac3a36847f813eaa3', 'de... \n",
      "\n",
      "[5 rows x 4 columns] \n",
      "      budget  ... vote_count \n",
      "0  237000000  ...      11800 \n",
      "1  300000000  ...       4500 \n",
      "2  245000000  ...       4466 \n",
      "3  250000000  ...       9106 \n",
      "4  260000000  ...       2124 \n",
      "\n",
      "[5 rows x 20 columns] \n"
     ]
    }
   ],
   "source": [
    "import numpy as np # Librerias a importar \n",
    "import pandas as pd # Librerias a importar \n",
    "\n",
    "# Importamos nuestros archivos \n",
    "creditos_df = pd.read_csv('credits.csv') \n",
    "peliculas_df = pd.read_csv('movies.csv') \n",
    "# Comprobamos archivos y que tengan los mismos titulos \n",
    "print (creditos_df.head()) # Revisión de información \n",
    "print (peliculas_df.head()) # Revisión de información \n"
   ]
  },
  {
   "cell_type": "code",
   "execution_count": 2,
   "metadata": {
    "collapsed": false
   },
  "outputs": [
    {
     "name": "stdout",
     "output_type": "stream",
     "text": [
      "(4808, 23) \n",
      "      budget  ...                                               crew \n",
      "0     19995  ...  [{'credit_id': '52fe48009251416c750aca23', 'de... \n",
      "1       285  ...  [{'credit_id': '52fe4232c3a36847f800b579', 'de... \n",
      "2    206647  ...  [{'credit_id': '54805967c3a36829b5002c41', 'de... \n",
      "3     49026  ...  [{'credit_id': '52fe4781c3a36847f81398c3', 'de... \n",
      "4     49529  ...  [{'credit_id': '52fe479ac3a36847f813eaa3', 'de... \n",
      " \n",
      "[5 rows x 23 columns] \n",
      "<class 'pandas.core.frame.DataFrame'> \n",
      "Int64Index: 4808 entries, 0 to 4807 \n",
      "Data columns (total 23 columns): \n",
      " #   Column                Non-Null Count  Dtype   \n",
      "---  ------                --------------  -----   \n",
      " 0   budget                4808 non-null   int64   \n",
      " 1   genres                4808 non-null   object  \n",
      " 2   homepage              1713 non-null   object  \n",
      " 3   id                    4808 non-null   int64   \n",
      " 4   keywords              4808 non-null   object  \n",
      " 5   original_language     4808 non-null   object  \n",
      " 6   original_title        4808 non-null   object  \n",
      " 7   overview              4805 non-null   object  \n",
      " 8   popularity            4808 non-null   float64 \n",
      " 9   production_companies  4808 non-null   object  \n",
      " 10  production_countries  4808 non-null   object  \n",
      " 11  release_date          4807 non-null   object  \n",
      " 12  revenue               4808 non-null   int64   \n",
      " 13  runtime               4806 non-null   float64 \n",
      " 14  spoken_languages      4808 non-null   object  \n",
      " 15  status                4808 non-null   object  \n",
      " 16  tagline               3964 non-null   object  \n",
      " 17  title                 4808 non-null   object  \n",
      " 18  vote_average          4808 non-null   float64 \n",
      " 19  vote_count            4808 non-null   int64   \n",
      " 20  movie_id              4808 non-null   int64   \n",
      " 21  cast                  4808 non-null   object  \n",
      " 22  crew                  4808 non-null   object  \n",
      "dtypes: float64(3), int64(5), object(15) \n",
      "memory usage: 901.5+ KB \n",
      "None \n"
     ]
    }
   ],
   "source": [
    "# Hacemos una pausa para verificar que ambos archivos tengan los mismos titulos, como ambos difieren en tamaño de titulos los juntamos en uno solo \n",
    "peliculas_df = peliculas_df.merge(creditos_df, on = 'title') #Agregamos tres columnas, 'movie_id', 'cast' y 'crew' comparandola con la casilla 'title', por eso se usó 'merge' \n",
    "print (peliculas_df.shape) # Revisión de información \n",
    "print (peliculas_df.head()) # Revisión de información \n",
    "print (peliculas_df.info()) # Revisión de información \n"
   ]
  },
  {
   "cell_type": "code",
   "execution_count": 3,
   "metadata": {
    "collapsed": false
   },
  "outputs": [
    {
     "name": "stdout",
     "output_type": "stream",
     "text": [
      "      budget  ...                                               crew \n",
      "0     19995  ...  [{'credit_id': '52fe48009251416c750aca23', 'de... \n",
      "1       285  ...  [{'credit_id': '52fe4232c3a36847f800b579', 'de... \n",
      "2    206647  ...  [{'credit_id': '54805967c3a36829b5002c41', 'de... \n",
      "3     49026  ...  [{'credit_id': '52fe4781c3a36847f81398c3', 'de... \n",
      "4     49529  ...  [{'credit_id': '52fe479ac3a36847f813eaa3', 'de... \n",
      " \n",
      "[5 rows x 7 columns] \n",
      "<class 'pandas.core.frame.DataFrame'> \n",
      "Int64Index: 4808 entries, 0 to 4807 \n",
      "Data columns (total 7 columns): \n",
      " #   Column    Non-Null Count  Dtype \n", 
      "---  ------    --------------  -----  \n",
      " 0   movie_id  4808 non-null   int64  \n",
      " 1   title     4808 non-null   object \n",
      " 2   overview  4805 non-null   object \n",
      " 3   genres    4808 non-null   object \n",
      " 4   keywords  4808 non-null   object \n",
      " 5   cast      4808 non-null   object \n",
      " 6   crew      4808 non-null   object \n",
      "dtypes: int64(1), object(6) \n",
      "memory usage: 300.5+ KB \n",
      "None \n",
      "movie_id    0 \n",
      "title       0 \n",
      "overview    3 \n",
      "genres      0 \n",
      "keywords    0 \n",
      "cast        0 \n",
      "crew        0 \n",
      "dtype: int64 \n",
      "0 \n",
      "[{'id': 28, 'name': 'Action'}, {'id': 12, 'name': 'Adventure'}, {'id': 14, 'name': 'Fantasy'}, {'id': 878, 'name': 'Science Fiction'}] \n"
     ]
    }
   ],
   "source": [
    "# Una vez confirmamos que tenemos los mismos titulos en un mismo archivo nos quedamos solo con unas columnas \n",
    "peliculas_df = peliculas_df[['movie_id','title','overview','genres','keywords','cast','crew']] \n",
    "print (peliculas_df.head()) # Revisión de información \n",
    "print (peliculas_df.info()) # Revisión de información \n",
    "print (peliculas_df.isnull().sum()) # Nos muestra los 'Null' en cada columna \n",
    "peliculas_df.dropna(inplace = True) \n",
    "print (peliculas_df.duplicated().sum()) # Nos dice las filas duplicadas \n",
    "print (peliculas_df.iloc[0].genres) # Nos devuelve el contenido de la primer casilla en 'genres' \n"
   ]
  },
  {
   "cell_type": "code",
   "execution_count": 4,
   "metadata": {
    "collapsed": false
   },
   "outputs": [
    {
     "name": "stdout",
     "output_type": "stream",
     "text": [
      "      movie_id  ...                                      crew \n",
      "0        19995  ...                           [James Cameron] \n",
      "1          285  ...                          [Gore Verbinski] \n",
      "2       206647  ...                              [Sam Mendes] \n",
      "3        49026  ...                       [Christopher Nolan] \n",
      "4        49529  ...                          [Andrew Stanton] \n",
      "       ...  ...                                       ... \n",
      "4803      9367  ...                        [Robert Rodriguez] \n",
      "4804     72766  ...                            [Edward Burns] \n",
      "4805    231617  ...                             [Scott Smith] \n",
      "4806    126186  ...                             [Daniel Hsia] \n",
      "4807     25975  ...  [Brian Herzlinger, Jon Gunn, Brett Winn] \n",
      " \n",
      "[4805 rows x 7 columns] \n",
      "In the 22nd century, a paraplegic Marine is dispatched to the moon Pandora on a unique mission, but becomes torn between following orders and protecting an alien civilization. \n"
     ]
    }
   ],
   "source": [
    "import ast # Importamos nueva libreria \n",
    "# La siguiente función nos devuelve las palabras claves de cada cadena, es decir, pasar de esto {'id': 28, 'name': 'Action'} a esto 'Action' \n",
    "def convert(obj): # Solo aplicable a 'genres' y 'keywords' \n",
    "    L = [] \n",
    "    for i in ast.literal_eval(obj): \n",
    "        L.append(i['name']) \n",
    "    return L \n",
    "peliculas_df['genres'] = peliculas_df['genres'].apply(convert) # Nos devuelve los generos \n",
    "peliculas_df['keywords'] = peliculas_df['keywords'].apply(convert) # Nos devuelve las palabras clave \n",
    "print (peliculas_df.head()) # Revisión de información \n",
    "# La siguiente función nos devuelve las palabras claves de cada cadena, es decir, pasar de esto {'id': 28, 'name': 'Action'} a esto 'Action' \n",
    "def convert3(obj): # Nos devuelve solo los 3 primeros nombres, solo util para 'cast' \n",
    "    L = [] \n",
    "    counter = 0 \n", 
    "    for i in ast.literal_eval(obj): \n",
    "        if counter != 3: \n",
    "            L.append(i['name']) \n",
    "            counter +=1 \n",
    "        else: \n",
    "            break \n",
    "    return L \n",
    "peliculas_df['cast'] = peliculas_df['cast'].apply(convert3) \n",
    "print (peliculas_df.head()) # Revisión de información \n",
    "def fetch_director(obj): # Nos devuelve el nombre del director \n",
    "    L = [] \n",
    "    for i in ast.literal_eval(obj): \n",
    "        if i['job'] == 'Director': \n",
    "            L.append(i['name']) \n",
    "    return L \n",
    "peliculas_df['crew'] = peliculas_df['crew'].apply(fetch_director) \n",
    "print (peliculas_df) # Revisión de información \n",
    "print (peliculas_df['overview'][0]) \n"
   ]
  },
  {
   "cell_type": "markdown",
   "metadata": {},
   "source": [
    ""
   ]
  }
 ],
 "metadata": {
  "kernelspec": {
   "display_name": "Python 3",
   "language": "python",
   "name": "python3"
  },
  "language_info": {
   "codemirror_mode": {
    "name": "ipython",
    "version": 3
   },
   "file_extension": ".py",
   "mimetype": "text/x-python",
   "name": "python",
   "nbconvert_exporter": "python",
   "pygments_lexer": "ipython3",
   "version": "3.7.3"
  }
 },
 "nbformat": 4,
 "nbformat_minor": 2
}
