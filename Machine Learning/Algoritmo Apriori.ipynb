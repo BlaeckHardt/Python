{
 "cells": [
  {
   "cell_type": "markdown",
   "metadata": {},
   "source": [
    "# Introducción \n",
    "Los algoritmos de reglas de asociación tienen como objetivo encontrar relaciones dentro un conjunto de transacciones, en concreto, items o atributos que tienden a ocurrir de forma conjunta. En este contexto, el término transacción hace referencia a cada grupo de eventos que están asociados de alguna forma, por ejemplo:\n",
    "* La cesta de la compra en un supermercado.\n",
    "* Los libros que compra un cliente en una librería.\n",
    "* Las páginas web visitadas por un usuario.\n",
    "* Las características que aparecen de forma conjunta.\n"
   ]
  },
  {
   "cell_type": "markdown",
   "metadata": {},
   "source": [
    "A cada uno de los eventos o elementos que forman parte de una transacción se le conoce como item y a un conjunto de ellos itemset. Una transacción puede estar formada por uno o varios items, en el caso de ser varios, cada posible subconjunto de ellos es un itemset distinto.\n",
    "Por ejemplo, la transacción $T = {A,B,C}$ está formada por 3 items $(A, B y C)$ y sus posibles itemsets son: ${A,B,C}, {A,B}, {B,C}, {A,C}, {A}, {B} y {C}$.\n",
    "# Reglas de asociacion\n",
    "Una regla de asociación se define como una implicación del tipo “si $X$ entonces $Y$” $(X⇒Y)$, donde $X$ e $Y$ son itemsets o items individuales. El lado izquierdo de la regla recibe el nombre de antecedente o lenft-hand-side (LHS) y el lado derecho el nombre de consecuente o right-hand-side (RHS). Por ejemplo, la regla ${A,B} => {C}$ significa que, cuando ocurren $A$ y $B$, también ocurre $C$.\n",
    "# Apriori \n",
    "El algoritmo a priori es un algoritmo de aprendizaje automático que se utiliza para obtener información sobre las relaciones estructuradas entre los diferentes elementos involucrados, es decir, nos permite encontrar de forma eficiente conjuntos de items frecuentes, los cuales sirven de base para generar reglas de asociación entre los items.\n",
    " \n",
    "La aplicación práctica más destacada del algoritmo es recomendar productos basados en los productos ya presentes en el carrito del usuario, esto identificando los items individuales frecuentes dentro del conjunto de datos para luego extenderlo a un conjunto de mayor tamaño siempre y cuando esos conjuntos de datos aparezcan constantemente y de manera frecuente de acuerdo con un umbral establecido. \n",
    " \n",
    "El algoritmo se aplica principalmente en el análisis de transacciones comerciales y en los problemas de predicción. Es por ello que el algoritmo está diseñado para trabajar con bases de datos que contienen transacciones como los productos o artículos comprados por consumidores, o detalles sobre las visitas a un sitio web, etc. \n",
    " \n",
    "La forma de generar las reglas de asociación consta de dos pasos: \n",
    "* Generación de combinaciones frecuentes: cuyo objetivo es encontrar aquellos conjuntos que sean frecuentes en la base de datos. Para determinar la frecuencia se establece un umbral.\n",
    "* Generación de reglas: A partir de los conjuntos frecuentes se crean las reglas en base al ordenamiento de un índice que establece los grupos de items o productos frecuentes.\n",
    " \n",
    "El índice para la generación de combinaciones se llama soporte y el índice para la generación de reglas se llama confidencia. \n",
    "# Algoritmo Apriori \n",
    "Antes de entrar en los detalles del algoritmo, conviene definir una serie de conceptos: \n",
    "* Soporte: El soporte del item o itemset $X$ es el número de transacciones que contienen $X$ dividido entre el total de transacciones. \n",
    "* Confidencia: La confidencia de una regla $“Si X entonces Y”$ se define acorde a la ecuación \n",
    " \n",
    "$confianza(X=>Y)=\\frac{soporte(unión(X,Y))}{soporte(X)}$ \n",
    " \n",
    " donde $unión(XY)$ es el itemset que contienen todos los items de $X$ y de $Y$. La confianza se interpreta como la probabilidad $P(Y|X)$, es decir, la probabilidad de que una transacción que contiene los items de $X$, también contenga los items de $Y$. \n",
    " A continuacion se enlistan los pasos para realizar el algoritmo:\n",
    "* Paso 1: Se establecen los valores mínimos para el soporte y la confidencia \n",
    "* Paso 2: Se toman todos los subconjuntos de transacciones que tienen un soporte mayor al valor del soporte mínimo.\n",
    "* Paso 3: Tomar todas las reglas de estos subconjuntos que tengan una confidencia mayor al valor de la confidencia mínima.\n",
    "* Paso 4: Ordenar las reglas de forma decreciente en base al valor del lift.\n",
    " \n",
    " \n",
    " \n",
    " \n",
    " \n",
    " \n"
   ]
  },
  {
   "cell_type": "code",
   "execution_count": null,
   "metadata": {},
   "outputs": [],
   "source": [
    "import random\n",
    "x = random.random() \n",
    "a = str(input(\"Escoge, ¿aguila o sol? \"))\n",
    "print(\"\")\n",
    "if x < 0.5:\n",
    "  if a = = 'aguila':\n",
    "    print (\"Aguila, ¡Ganaste!\")\n",
    "  else:\n",
    "    print (\"Aguila, ¡Perdiste! xD\")\n",
    "else:\n",
    "  if a = = 'sol':\n",
    "    print (\"Sol, ¡Ganaste!\")\n",
    "  else:\n",
    "    print (\"Sol, ¡Perdiste! xD\")\n"
   ]
  },
  {
   "cell_type": "markdown",
   "metadata": {},
   "source": [
    "##    b) Usar la función random( ) para simular 1000 volados.\n"
   ]
  },
  {
   "cell_type": "code",
   "execution_count": null,
   "metadata": {},
   "outputs": [],
   "source": [
    "import random",
    "x = random.random() \n",
    "b = str(input(\"Escoge, ¿aguila o sol? \"))\n",
    "print(\"\")\n",
    "count = 0 \n",
    "sol = 0 \n",
    "aguila = 0 \n",
    "while count < 1000:\n",
    "  y = random.random()\n",
    "  if y < 0.5:\n",
    "    sol = sol+1 \n",
    "  else:\n",
    "    aguila = aguila+1 \n",
    "  count = count+1 \n",
    "if sol < aguila:\n",
    "  if b = = 'aguila':\n",
    "    print (\"Aguila, ¡Ganaste!\")\n",
    "  else:\n",
    "    print (\"Aguila, ¡Perdiste! xD\")\n",
    "else:\n",
    "  if b = = 'sol':\n",
    "    print (\"Sol, ¡Ganaste!\")\n",
    "  else:\n",
    "    print (\"Sol, ¡Perdiste! xD\")\n"
   ]
  },
  {
   "cell_type": "markdown",
   "metadata": {},
   "source": [
    "##    c) Determinar de b) la probabilidad de que ocurra \"sol\" en un volado.\n"
   ]
  },
  {
   "cell_type": "code",
   "execution_count": null,
   "metadata": {},
   "outputs": [],
   "source": [
    "import random",
    "x = random.random() \n",
    "b = str(input(\"Escoge, ¿aguila o sol? \"))\n",
    "print(\"\")\n",
    "count = 0 \n",
    "sol = 0 \n",
    "aguila = 0 \n",
    "while count < 1000:\n",
    "  y = random.random()\n",
    "  if y < 0.5:\n",
    "    sol = sol+1 \n",
    "  else:\n",
    "    aguila = aguila+1 \n",
    "  count = count+1 \n",
    "PA = aguila/count \n",
    "PS = sol/count \n",
    "print(\"\")\n",
    "print(\"La probabilidad de obtener aguila era de: \",PA)\n",
    "print(\"La probabilidad de obtener sol era de: \",PS)\n",
    "print(\"\")\n"
   ]
  }
 ],
 "metadata": {
  "kernelspec": {
   "display_name": "Python 3",
   "language": "python",
   "name": "python3"
  },
  "language_info": {
   "codemirror_mode": {
    "name": "ipython",
    "version": 3
   },
   "file_extension": ".py",
   "mimetype": "text/x-python",
   "name": "python",
   "nbconvert_exporter": "python",
   "pygments_lexer": "ipython3",
   "version": "3.7.3"
  }
 },
 "nbformat": 4,
 "nbformat_minor": 2
}
