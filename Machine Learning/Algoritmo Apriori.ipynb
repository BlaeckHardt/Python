{
 "cells": [
  {
   "cell_type": "markdown",
   "metadata": {},
   "source": [
    "# Introducción \n",
    "Los algoritmos de reglas de asociación tienen como objetivo encontrar relaciones dentro un conjunto de transacciones, en concreto, items o atributos que tienden a ocurrir de forma conjunta. En este contexto, el término transacción hace referencia a cada grupo de eventos que están asociados de alguna forma, por ejemplo:\n",
    "* La cesta de la compra en un supermercado.\n",
    "* Los libros que compra un cliente en una librería.\n",
    "* Las páginas web visitadas por un usuario.\n",
    "* Las características que aparecen de forma conjunta.\n"
   ]
  },
  {
   "cell_type": "markdown",
   "metadata": {},
   "source": [
    "A cada uno de los eventos o elementos que forman parte de una transacción se le conoce como item y a un conjunto de ellos itemset. Una transacción puede estar formada por uno o varios items, en el caso de ser varios, cada posible subconjunto de ellos es un itemset distinto.\n",
    "Por ejemplo, la transacción T = {A,B,C} está formada por 3 items (A, B y C) y sus posibles itemsets son: {A,B,C}, {A,B}, {B,C}, {A,C}, {A}, {B} y {C}.\n",
    "\n",
    "Una regla de asociación se define como una implicación del tipo “si X entonces Y” (X⇒Y), donde X e Y son itemsets o items individuales. El lado izquierdo de la regla recibe el nombre de antecedente o lenft-hand-side (LHS) y el lado derecho el nombre de consecuente o right-hand-side (RHS). Por ejemplo, la regla {A,B} => {C} significa que, cuando ocurren A y B, también ocurre C.\n",
    "###    b) Usar la función random( ) para simular 1000 volados.\n"
   ]
  },
  {
   "cell_type": "code",
   "execution_count": null,
   "metadata": {},
   "outputs": [],
   "source": [
    "import random\n",
    "x = random.random() \n",
    "a = str(input(\"Escoge, ¿aguila o sol? \"))\n",
    "print(\"\")\n",
    "if x < 0.5:\n",
    "  if a = = 'aguila':\n",
    "    print (\"Aguila, ¡Ganaste!\")\n",
    "  else:\n",
    "    print (\"Aguila, ¡Perdiste! xD\")\n",
    "else:\n",
    "  if a = = 'sol':\n",
    "    print (\"Sol, ¡Ganaste!\")\n",
    "  else:\n",
    "    print (\"Sol, ¡Perdiste! xD\")\n"
   ]
  },
  {
   "cell_type": "markdown",
   "metadata": {},
   "source": [
    "##    b) Usar la función random( ) para simular 1000 volados.\n"
   ]
  },
  {
   "cell_type": "code",
   "execution_count": null,
   "metadata": {},
   "outputs": [],
   "source": [
    "import random",
    "x = random.random() \n",
    "b = str(input(\"Escoge, ¿aguila o sol? \"))\n",
    "print(\"\")\n",
    "count = 0 \n",
    "sol = 0 \n",
    "aguila = 0 \n",
    "while count < 1000:\n",
    "  y = random.random()\n",
    "  if y < 0.5:\n",
    "    sol = sol+1 \n",
    "  else:\n",
    "    aguila = aguila+1 \n",
    "  count = count+1 \n",
    "if sol < aguila:\n",
    "  if b = = 'aguila':\n",
    "    print (\"Aguila, ¡Ganaste!\")\n",
    "  else:\n",
    "    print (\"Aguila, ¡Perdiste! xD\")\n",
    "else:\n",
    "  if b = = 'sol':\n",
    "    print (\"Sol, ¡Ganaste!\")\n",
    "  else:\n",
    "    print (\"Sol, ¡Perdiste! xD\")\n"
   ]
  },
  {
   "cell_type": "markdown",
   "metadata": {},
   "source": [
    "##    c) Determinar de b) la probabilidad de que ocurra \"sol\" en un volado.\n"
   ]
  },
  {
   "cell_type": "code",
   "execution_count": null,
   "metadata": {},
   "outputs": [],
   "source": [
    "import random",
    "x = random.random() \n",
    "b = str(input(\"Escoge, ¿aguila o sol? \"))\n",
    "print(\"\")\n",
    "count = 0 \n",
    "sol = 0 \n",
    "aguila = 0 \n",
    "while count < 1000:\n",
    "  y = random.random()\n",
    "  if y < 0.5:\n",
    "    sol = sol+1 \n",
    "  else:\n",
    "    aguila = aguila+1 \n",
    "  count = count+1 \n",
    "PA = aguila/count \n",
    "PS = sol/count \n",
    "print(\"\")\n",
    "print(\"La probabilidad de obtener aguila era de: \",PA)\n",
    "print(\"La probabilidad de obtener sol era de: \",PS)\n",
    "print(\"\")\n"
   ]
  }
 ],
 "metadata": {
  "kernelspec": {
   "display_name": "Python 3",
   "language": "python",
   "name": "python3"
  },
  "language_info": {
   "codemirror_mode": {
    "name": "ipython",
    "version": 3
   },
   "file_extension": ".py",
   "mimetype": "text/x-python",
   "name": "python",
   "nbconvert_exporter": "python",
   "pygments_lexer": "ipython3",
   "version": "3.7.3"
  }
 },
 "nbformat": 4,
 "nbformat_minor": 2
}
