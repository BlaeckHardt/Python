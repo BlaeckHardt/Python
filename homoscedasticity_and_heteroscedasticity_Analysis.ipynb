{
 "cells": [
  {
   "cell_type": "markdown",
   "id": "6df8de6a",
   "metadata": {},
   "source": [
    "# Análisis de homocedasticidad y heterocedasticidad\n",
    "\n",
    "El supuesto de homogeneidad de varianzas, también conocido como supuesto de homocedasticidad, considera que la varianza es constante (no varía) en los diferentes niveles de un factor, es decir, entre diferentes grupos. En los modelos de regresión lineal, esta condición de homocedasticidad suele hacer referencia a los errores (residuos) del modelo, es decir, que la varianza de los errores es constante en todas las predicciones. Cuando la condición de homocedasticidad no se cumple, se utiliza el término heterocedasticidad.\n",
    "\n",
    "Existen diferentes test que permiten evaluar si las observaciones proceden de poblaciones con la misma varianza. Todos ellos consideran como hipótesis nula que la varianza es igual entre los grupos y como hipótesis alternativa que no lo es. La diferencia entre ellos es el estadístico de centralidad que utilizan:\n",
    "\n",
    "* Los test que utilizan la media de la varianza son los que mayor poder estadístico consiguen cuando los datos siguen distribuciones normales.\n",
    "\n",
    "* Los test que utilizan la mediana de la varianza consiguen mejores resultados cuando los datos siguen distribuciones asimétricas o se alejan de la normalidad.\n",
    "\n",
    "Por lo general, si no se puede alcanzar cierta seguridad de que las poblaciones que se comparan son de tipo normal, es recomendable recurrir a test que comparen la mediana de la varianza.\n",
    "\n",
    "## Librerias\n"
   ]
  },
  {
   "cell_type": "code",
   "execution_count": 1,
   "id": "c2a1f1a8",
   "metadata": {},
   "outputs": [],
   "source": [
    "# Tratamiento de datos\n",
    "# ==============================================================================\n",
    "import pandas as pd\n",
    "import numpy as np\n",
    "\n",
    "# Gráficos\n",
    "# ==============================================================================\n",
    "import matplotlib.pyplot as plt\n",
    "from matplotlib import style\n",
    "import seaborn as sns\n",
    "\n",
    "# Preprocesado y análisis\n",
    "# ==============================================================================\n",
    "from scipy import stats\n",
    "\n",
    "# Configuración matplotlib\n",
    "# ==============================================================================\n",
    "plt.style.use('ggplot')\n",
    "\n",
    "# Configuración warnings\n",
    "# ==============================================================================\n",
    "import warnings\n",
    "warnings.filterwarnings('ignore')"
   ]
  },
  {
   "cell_type": "markdown",
   "id": "4b1a7282",
   "metadata": {},
   "source": [
    "## Datos\n",
    "\n",
    "Los datos utilizados en este ejemplo se han obtenido del libro Statistical Rethinking by Richard McElreath. El set de datos contiene información recogida por Nancy Howell a finales de la década de 1960 sobre el pueblo !Kung San, que viven en el desierto de Kalahari entre Botsuana, Namibia y Angola. El objetivo es identificar si existe diferencia entre la varianza del peso de hombres y mujeres."
   ]
  },
  {
   "cell_type": "code",
   "execution_count": 2,
   "id": "43c8c2ed",
   "metadata": {},
   "outputs": [
    {
     "name": "stdout",
     "output_type": "stream",
     "text": [
      "<class 'pandas.core.frame.DataFrame'>\n",
      "RangeIndex: 544 entries, 0 to 543\n",
      "Data columns (total 4 columns):\n",
      " #   Column  Non-Null Count  Dtype  \n",
      "---  ------  --------------  -----  \n",
      " 0   height  544 non-null    float64\n",
      " 1   weight  544 non-null    float64\n",
      " 2   age     544 non-null    float64\n",
      " 3   male    544 non-null    int64  \n",
      "dtypes: float64(3), int64(1)\n",
      "memory usage: 17.1 KB\n",
      "None\n"
     ]
    },
    {
     "data": {
      "text/html": [
       "<div>\n",
       "<style scoped>\n",
       "    .dataframe tbody tr th:only-of-type {\n",
       "        vertical-align: middle;\n",
       "    }\n",
       "\n",
       "    .dataframe tbody tr th {\n",
       "        vertical-align: top;\n",
       "    }\n",
       "\n",
       "    .dataframe thead th {\n",
       "        text-align: right;\n",
       "    }\n",
       "</style>\n",
       "<table border=\"1\" class=\"dataframe\">\n",
       "  <thead>\n",
       "    <tr style=\"text-align: right;\">\n",
       "      <th></th>\n",
       "      <th>height</th>\n",
       "      <th>weight</th>\n",
       "      <th>age</th>\n",
       "      <th>male</th>\n",
       "    </tr>\n",
       "  </thead>\n",
       "  <tbody>\n",
       "    <tr>\n",
       "      <th>0</th>\n",
       "      <td>151.765</td>\n",
       "      <td>47.825606</td>\n",
       "      <td>63.0</td>\n",
       "      <td>1</td>\n",
       "    </tr>\n",
       "    <tr>\n",
       "      <th>1</th>\n",
       "      <td>139.700</td>\n",
       "      <td>36.485807</td>\n",
       "      <td>63.0</td>\n",
       "      <td>0</td>\n",
       "    </tr>\n",
       "    <tr>\n",
       "      <th>2</th>\n",
       "      <td>136.525</td>\n",
       "      <td>31.864838</td>\n",
       "      <td>65.0</td>\n",
       "      <td>0</td>\n",
       "    </tr>\n",
       "    <tr>\n",
       "      <th>3</th>\n",
       "      <td>156.845</td>\n",
       "      <td>53.041914</td>\n",
       "      <td>41.0</td>\n",
       "      <td>1</td>\n",
       "    </tr>\n",
       "    <tr>\n",
       "      <th>4</th>\n",
       "      <td>145.415</td>\n",
       "      <td>41.276872</td>\n",
       "      <td>51.0</td>\n",
       "      <td>0</td>\n",
       "    </tr>\n",
       "  </tbody>\n",
       "</table>\n",
       "</div>"
      ],
      "text/plain": [
       "    height     weight   age  male\n",
       "0  151.765  47.825606  63.0     1\n",
       "1  139.700  36.485807  63.0     0\n",
       "2  136.525  31.864838  65.0     0\n",
       "3  156.845  53.041914  41.0     1\n",
       "4  145.415  41.276872  51.0     0"
      ]
     },
     "execution_count": 2,
     "metadata": {},
     "output_type": "execute_result"
    }
   ],
   "source": [
    "# Datos\n",
    "# ==============================================================================\n",
    "url = ('https://raw.githubusercontent.com/JoaquinAmatRodrigo/' +\n",
    "       'Estadistica-machine-learning-python/master/data/Howell1.csv')\n",
    "datos = pd.read_csv(url)\n",
    "print(datos.info())\n",
    "datos.head()"
   ]
  },
  {
   "cell_type": "markdown",
   "id": "d95fa5dd",
   "metadata": {},
   "source": [
    "#### Notas\n",
    "\n",
    "Como podemos observar la información de nuestro dataframe contiene las siguientes columnas:\n",
    "* height (altura)\n",
    "* weight (peso)\n",
    "* age (edad)\n",
    "* male (hombre): en este caso estamos usando los datos de esta columna como variables binaria cero o uno\n",
    "\n",
    "Para proósito de este estudio seleccionaremos únicamente personas mayores de 15 años, es decir, en la columna \"male\" seleccionaremos únicamente aquellos que tengan como valor \"0\" en conjunto con los datos que en la columna \"age\" sean mayores a 15.0"
   ]
  },
  {
   "cell_type": "code",
   "execution_count": 3,
   "id": "fc6e2f48",
   "metadata": {},
   "outputs": [],
   "source": [
    "datos['male'] = datos['male'].astype(str)\n",
    "datos = datos[(datos.age > 15)]\n",
    "peso_hombres = datos.loc[datos.male == '1', 'weight']\n",
    "peso_mujeres = datos.loc[datos.male == '0', 'weight']"
   ]
  },
  {
   "cell_type": "markdown",
   "id": "602273ea",
   "metadata": {},
   "source": [
    "## Métodos gráficos\n",
    "\n",
    "Dos de los métodos gráficos más empleados para el análisis homocedasticidad consiste en representar los datos mediante un boxplot o un violinplot. Con ambos gráficos el objetivo es comparar la dispersión de los grupos."
   ]
  },
  {
   "cell_type": "code",
   "execution_count": 4,
   "id": "de27bec5",
   "metadata": {},
   "outputs": [
    {
     "data": {
      "image/png": "[encoded data removed]",
      "text/plain": [
       "<Figure size 700x350 with 1 Axes>"
      ]
     },
     "metadata": {},
     "output_type": "display_data"
    }
   ],
   "source": [
    "# Grafico violinplot\n",
    "# ==============================================================================\n",
    "fig, ax = plt.subplots(nrows=1, ncols=1, figsize=(7, 3.5))\n",
    "sns.violinplot(\n",
    "    x       = 'weight',\n",
    "    y       = 'male',\n",
    "    data    = datos,\n",
    "    palette = 'tab10',\n",
    "    inner   = 'stick',\n",
    "    ax      = ax\n",
    ")\n",
    "ax.set_title('Distribución de peso por sexo')\n",
    "ax.set_xlabel('peso')\n",
    "ax.set_ylabel('sexo(1=hombre 0=mujer)');"
   ]
  },
  {
   "cell_type": "code",
   "execution_count": 5,
   "id": "3dafc7c8",
   "metadata": {},
   "outputs": [
    {
     "data": {
      "image/png": "[encoded data removed]",
      "text/plain": [
       "<Figure size 700x350 with 1 Axes>"
      ]
     },
     "metadata": {},
     "output_type": "display_data"
    }
   ],
   "source": [
    "# Grafico boxplot\n",
    "# ==============================================================================\n",
    "fig, ax = plt.subplots(nrows=1, ncols=1, figsize=(7, 3.5))\n",
    "sns.boxplot(\n",
    "    x       = 'weight',\n",
    "    y       = 'male',\n",
    "    data    = datos,\n",
    "    palette = 'tab10',\n",
    "    ax      = ax\n",
    ")\n",
    "ax.set_title('Distribución de peso por sexo')\n",
    "ax.set_xlabel('peso')\n",
    "ax.set_ylabel('sexo(1=hombre 0=mujer)');"
   ]
  },
  {
   "cell_type": "markdown",
   "id": "72b43486",
   "metadata": {},
   "source": [
    "El análisis gráfico parece indicar que los dos grupos tienen varianzas similares.\n",
    "\n",
    "## Contraste de hipótesis\n",
    "\n",
    "\n",
    "El test de Levene, el test de Bartlett y el test de Fligner-Killeen son tres de los test de hipótesis más empleados comparar la varianza entre grupos. En todos ellos, se considera como hipótesis nula que los datos proceden de distribuciones con la misma varianza (homocedasticidad). Por lo tanto, si el p-value es menor que un determinado valor (típicamente 0.05), entonces se considera que hay evidencias suficientes para rechazar la homocedasticidad en favor de la heterocedasticidad.\n",
    "\n",
    "El test de Levene y el test de Fligner-Killeen (este último no paramétrico) son más robustos que el test de Bartlett ante la falta de normalidad, por lo que suele aconsejarse su uso. Además, tanto el test de Levene como el de Bartlett permiten elegir entre diferentes estadísticos de centralidad: mediana (por defecto), media, media truncada. Esto es importante a la hora de contrastar la homocedasticidad dependiendo de si los grupos se distribuyen de forma normal o no.\n",
    "\n",
    "Si se tiene seguridad de que las muestras a comparar proceden de poblaciones que siguen una distribución normal, es recomendable el test de Bartlett. Si no se tiene la seguridad de que las poblaciones de origen son normales, se recomiendan el test de Leven utilizando la mediana o el test no paramétrico Fligner-Killeen que también se basa en la mediana.\n",
    "\n",
    "Los tres test están disponibles en la librería scipy.stats (scipy.stats.levene, scipy.stats.bartlett, scipy.stats.fligner) y en la librería pingouin (pingouin.homoscedasticity)."
   ]
  },
  {
   "cell_type": "code",
   "execution_count": 6,
   "id": "81150609",
   "metadata": {},
   "outputs": [
    {
     "data": {
      "text/plain": [
       "LeveneResult(statistic=0.18630521976263306, pvalue=0.6662611053126026)"
      ]
     },
     "execution_count": 6,
     "metadata": {},
     "output_type": "execute_result"
    }
   ],
   "source": [
    "# Levene test\n",
    "# ==============================================================================\n",
    "levene_test = stats.levene(peso_hombres, peso_mujeres, center='median')\n",
    "levene_test"
   ]
  },
  {
   "cell_type": "code",
   "execution_count": 7,
   "id": "00e4f174",
   "metadata": {},
   "outputs": [
    {
     "data": {
      "text/plain": [
       "BartlettResult(statistic=0.847332275146206, pvalue=0.3573081212487964)"
      ]
     },
     "execution_count": 7,
     "metadata": {},
     "output_type": "execute_result"
    }
   ],
   "source": [
    "# Bartlett test\n",
    "# ==============================================================================\n",
    "bartlett_test = stats.bartlett(peso_hombres, peso_mujeres)\n",
    "bartlett_test"
   ]
  },
  {
   "cell_type": "code",
   "execution_count": 8,
   "id": "6b1e2df3",
   "metadata": {},
   "outputs": [
    {
     "data": {
      "text/plain": [
       "FlignerResult(statistic=0.1376531343594324, pvalue=0.7106253515287645)"
      ]
     },
     "execution_count": 8,
     "metadata": {},
     "output_type": "execute_result"
    }
   ],
   "source": [
    "# Levene test\n",
    "# ==============================================================================\n",
    "fligner_test = stats.fligner(peso_hombres, peso_mujeres, center='median')\n",
    "fligner_test"
   ]
  },
  {
   "cell_type": "markdown",
   "id": "23260a4c",
   "metadata": {},
   "source": [
    "### Ninguno de los test muestra evidencias para rechazar la hipótesis de que los dos grupos tienen la misma varianza, homocedasticidad. p-value >>>> 0.05"
   ]
  }
 ],
 "metadata": {
  "kernelspec": {
   "display_name": "Python 3 (ipykernel)",
   "language": "python",
   "name": "python3"
  },
  "language_info": {
   "codemirror_mode": {
    "name": "ipython",
    "version": 3
   },
   "file_extension": ".py",
   "mimetype": "text/x-python",
   "name": "python",
   "nbconvert_exporter": "python",
   "pygments_lexer": "ipython3",
   "version": "3.9.13"
  }
 },
 "nbformat": 4,
 "nbformat_minor": 5
}
